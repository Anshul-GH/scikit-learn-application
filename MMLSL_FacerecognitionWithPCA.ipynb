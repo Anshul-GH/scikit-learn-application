{
 "cells": [
  {
   "cell_type": "code",
   "execution_count": 2,
   "metadata": {},
   "outputs": [],
   "source": [
    "# implementing the face recognition with PCA\n",
    "\n",
    "import os\n",
    "import numpy as np\n",
    "from sklearn.model_selection import train_test_split\n",
    "from sklearn.model_selection import cross_val_score\n",
    "from sklearn.preprocessing import scale\n",
    "from sklearn.decomposition import PCA\n",
    "from sklearn.linear_model import LogisticRegression\n",
    "from sklearn.metrics import classification_report\n",
    "from PIL import Image"
   ]
  },
  {
   "cell_type": "code",
   "execution_count": 5,
   "metadata": {},
   "outputs": [],
   "source": [
    "X = []\n",
    "y = []\n",
    "\n",
    "for dirpath, _, filenames in os.walk('/home/anshul/att_faces/orl_faces'):\n",
    "    for filename in filenames:\n",
    "        if filename[-3:] == 'pgm':\n",
    "            img = Image.open(os.path.join(dirpath, filename)).convert('L')\n",
    "            arr = np.array(img).reshape(10304).astype('float32') / 255\n",
    "            X.append(arr)\n",
    "            y.append(dirpath)"
   ]
  },
  {
   "cell_type": "code",
   "execution_count": 6,
   "metadata": {},
   "outputs": [],
   "source": [
    "X = scale(X)"
   ]
  },
  {
   "cell_type": "code",
   "execution_count": 7,
   "metadata": {},
   "outputs": [],
   "source": [
    "X_train, X_test, y_train, y_test = train_test_split(X, y)\n",
    "pca = PCA(n_components=150)"
   ]
  },
  {
   "cell_type": "code",
   "execution_count": 9,
   "metadata": {},
   "outputs": [
    {
     "name": "stdout",
     "output_type": "stream",
     "text": [
      "(300, 10304)\n",
      "(300, 150)\n"
     ]
    }
   ],
   "source": [
    "X_train_reduced = pca.fit_transform(X_train)\n",
    "X_test_reduced = pca.transform(X_test)\n",
    "\n",
    "print(X_train.shape)\n",
    "print(X_train_reduced.shape)\n",
    "\n",
    "classifier = LogisticRegression()\n",
    "accuracies = cross_val_score(classifier, X_train_reduced, y_train)"
   ]
  },
  {
   "cell_type": "code",
   "execution_count": 10,
   "metadata": {},
   "outputs": [
    {
     "name": "stdout",
     "output_type": "stream",
     "text": [
      "Cross Validation Accuracy:  0.828686250509996\n",
      "                                      precision    recall  f1-score   support\n",
      "\n",
      " /home/anshul/att_faces/orl_faces/s1       1.00      1.00      1.00         1\n",
      "/home/anshul/att_faces/orl_faces/s10       1.00      1.00      1.00         4\n",
      "/home/anshul/att_faces/orl_faces/s11       0.00      0.00      0.00         0\n",
      "/home/anshul/att_faces/orl_faces/s12       1.00      1.00      1.00         2\n",
      "/home/anshul/att_faces/orl_faces/s13       1.00      1.00      1.00         3\n",
      "/home/anshul/att_faces/orl_faces/s14       1.00      1.00      1.00         2\n",
      "/home/anshul/att_faces/orl_faces/s15       1.00      1.00      1.00         2\n",
      "/home/anshul/att_faces/orl_faces/s16       1.00      1.00      1.00         2\n",
      "/home/anshul/att_faces/orl_faces/s17       1.00      1.00      1.00         3\n",
      "/home/anshul/att_faces/orl_faces/s18       1.00      1.00      1.00         3\n",
      "/home/anshul/att_faces/orl_faces/s19       1.00      1.00      1.00         3\n",
      " /home/anshul/att_faces/orl_faces/s2       1.00      1.00      1.00         2\n",
      "/home/anshul/att_faces/orl_faces/s20       1.00      1.00      1.00         3\n",
      "/home/anshul/att_faces/orl_faces/s21       1.00      1.00      1.00         5\n",
      "/home/anshul/att_faces/orl_faces/s22       1.00      1.00      1.00         1\n",
      "/home/anshul/att_faces/orl_faces/s23       1.00      1.00      1.00         3\n",
      "/home/anshul/att_faces/orl_faces/s25       1.00      1.00      1.00         1\n",
      "/home/anshul/att_faces/orl_faces/s26       1.00      0.83      0.91         6\n",
      "/home/anshul/att_faces/orl_faces/s27       1.00      1.00      1.00         2\n",
      "/home/anshul/att_faces/orl_faces/s28       0.00      0.00      0.00         1\n",
      "/home/anshul/att_faces/orl_faces/s29       0.50      1.00      0.67         1\n",
      " /home/anshul/att_faces/orl_faces/s3       1.00      1.00      1.00         2\n",
      "/home/anshul/att_faces/orl_faces/s30       1.00      1.00      1.00         2\n",
      "/home/anshul/att_faces/orl_faces/s31       1.00      1.00      1.00         4\n",
      "/home/anshul/att_faces/orl_faces/s32       1.00      0.75      0.86         4\n",
      "/home/anshul/att_faces/orl_faces/s33       1.00      1.00      1.00         5\n",
      "/home/anshul/att_faces/orl_faces/s34       1.00      1.00      1.00         5\n",
      "/home/anshul/att_faces/orl_faces/s35       1.00      0.67      0.80         3\n",
      "/home/anshul/att_faces/orl_faces/s36       0.67      1.00      0.80         2\n",
      "/home/anshul/att_faces/orl_faces/s37       1.00      1.00      1.00         3\n",
      "/home/anshul/att_faces/orl_faces/s38       1.00      1.00      1.00         1\n",
      "/home/anshul/att_faces/orl_faces/s39       1.00      1.00      1.00         4\n",
      " /home/anshul/att_faces/orl_faces/s4       1.00      1.00      1.00         1\n",
      "/home/anshul/att_faces/orl_faces/s40       0.50      1.00      0.67         1\n",
      " /home/anshul/att_faces/orl_faces/s5       1.00      0.50      0.67         2\n",
      " /home/anshul/att_faces/orl_faces/s6       1.00      1.00      1.00         3\n",
      " /home/anshul/att_faces/orl_faces/s7       1.00      1.00      1.00         2\n",
      " /home/anshul/att_faces/orl_faces/s8       1.00      1.00      1.00         3\n",
      " /home/anshul/att_faces/orl_faces/s9       1.00      1.00      1.00         3\n",
      "\n",
      "                         avg / total       0.97      0.95      0.96       100\n",
      "\n"
     ]
    },
    {
     "name": "stderr",
     "output_type": "stream",
     "text": [
      "/home/anshul/anaconda3/lib/python3.6/site-packages/sklearn/metrics/classification.py:1137: UndefinedMetricWarning: Recall and F-score are ill-defined and being set to 0.0 in labels with no true samples.\n",
      "  'recall', 'true', average, warn_for)\n"
     ]
    }
   ],
   "source": [
    "print('Cross Validation Accuracy: ', np.mean(accuracies))\n",
    "classifier.fit(X_train_reduced, y_train)\n",
    "predictions = classifier.predict(X_test_reduced)\n",
    "print(classification_report(y_test, predictions))"
   ]
  },
  {
   "cell_type": "code",
   "execution_count": null,
   "metadata": {},
   "outputs": [],
   "source": []
  }
 ],
 "metadata": {
  "kernelspec": {
   "display_name": "Python 3",
   "language": "python",
   "name": "python3"
  },
  "language_info": {
   "codemirror_mode": {
    "name": "ipython",
    "version": 3
   },
   "file_extension": ".py",
   "mimetype": "text/x-python",
   "name": "python",
   "nbconvert_exporter": "python",
   "pygments_lexer": "ipython3",
   "version": "3.6.5"
  }
 },
 "nbformat": 4,
 "nbformat_minor": 2
}
