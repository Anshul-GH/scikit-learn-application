{
 "cells": [
  {
   "cell_type": "code",
   "execution_count": 5,
   "metadata": {},
   "outputs": [],
   "source": [
    "# the pizza problem\n",
    "import numpy as np\n",
    "import matplotlib.pyplot as plt\n",
    "\n",
    "# X = features of our training data - diameters of the pizzas\n",
    "# y = response variable representing the price for the pizzas\n",
    "\n",
    "X = np.array([[6], [8], [10], [14], [18]]).reshape(-1, 1)\n",
    "y = [7, 9, 13, 17.5, 18]"
   ]
  },
  {
   "cell_type": "code",
   "execution_count": 11,
   "metadata": {
    "scrolled": true
   },
   "outputs": [
    {
     "data": {
      "image/png": "[encoded data removed]",
      "text/plain": [
       "<Figure size 432x288 with 1 Axes>"
      ]
     },
     "metadata": {},
     "output_type": "display_data"
    }
   ],
   "source": [
    "# plot X and y on graph\n",
    "plt.title('Pizza prices againts diameter.')\n",
    "plt.xlabel('Diameter in inches')\n",
    "plt.ylabel('Price in dollars')\n",
    "# plt.plot(X, y)\n",
    "# shows the values just as disceret dots\n",
    "plt.plot(X, y, 'k.')\n",
    "# shows/adds a grid to the plot\n",
    "plt.grid(True)\n",
    "# redines the axis to be shown from 0 - 25 for both x and y.\n",
    "plt.axis([0, 25, 0, 25])\n",
    "plt.show()"
   ]
  },
  {
   "cell_type": "code",
   "execution_count": 16,
   "metadata": {},
   "outputs": [
    {
     "data": {
      "text/plain": [
       "LinearRegression(copy_X=True, fit_intercept=True, n_jobs=1, normalize=False)"
      ]
     },
     "execution_count": 16,
     "metadata": {},
     "output_type": "execute_result"
    }
   ],
   "source": [
    "# implementing LinearRegression to predict \n",
    "# the pricing for pizzas based on the diameter\n",
    "\n",
    "from sklearn.linear_model import LinearRegression\n",
    "# from sklearn.linear_model.logistic import LogisticRegression\n",
    "# from sklearn.linear_model import LogisticRegression\n",
    "\n",
    "model = LinearRegression()\n",
    "model.fit(X, y)"
   ]
  },
  {
   "cell_type": "code",
   "execution_count": 45,
   "metadata": {},
   "outputs": [
    {
     "name": "stdout",
     "output_type": "stream",
     "text": [
      "A 12\" would cost $13.68.\n",
      "A 16\" would cost $17.59.\n",
      "A 27\" would cost $28.33.\n"
     ]
    }
   ],
   "source": [
    "## -- 1 -- ##\n",
    "# predict the price of the pizza with an out-of-sample diameter\n",
    "X_test = np.array([[12], [16], [27]])\n",
    "y_pred = model.predict(X_test)\n",
    "for i in range(len(y_pred)):\n",
    "    # print \"A {} inch pizza would cost ${:.2f}. \".format(X_test[i], y_pred[i])\n",
    "    # print \"{}\" #.format(X_test[i])\n",
    "    print('A {}\" would cost ${:.2f}.'.format(X_test[i][0], y_pred[i]))"
   ]
  },
  {
   "cell_type": "code",
   "execution_count": 47,
   "metadata": {},
   "outputs": [
    {
     "name": "stdout",
     "output_type": "stream",
     "text": [
      "Residual Sum of Squares: 1.75\n"
     ]
    }
   ],
   "source": [
    "## -- 2 -- ##\n",
    "# calculating the Residual Sum of Squares (RSS) for the model\n",
    "print('Residual Sum of Squares: {:.2f}'.\n",
    "      format(np.mean((model.predict(X) - y) ** 2)))"
   ]
  },
  {
   "cell_type": "code",
   "execution_count": 48,
   "metadata": {},
   "outputs": [
    {
     "name": "stdout",
     "output_type": "stream",
     "text": [
      "[[ 6]\n",
      " [ 8]\n",
      " [10]\n",
      " [14]\n",
      " [18]]\n"
     ]
    }
   ],
   "source": [
    "## -- 3 -- ##\n",
    "# calculating the variance\n",
    "# import numpy as np\n",
    "\n",
    "print(X)"
   ]
  },
  {
   "cell_type": "code",
   "execution_count": 49,
   "metadata": {},
   "outputs": [
    {
     "name": "stdout",
     "output_type": "stream",
     "text": [
      "11.2\n"
     ]
    }
   ],
   "source": [
    "X_bar = X.mean()\n",
    "print(X_bar)"
   ]
  },
  {
   "cell_type": "code",
   "execution_count": 50,
   "metadata": {},
   "outputs": [
    {
     "name": "stdout",
     "output_type": "stream",
     "text": [
      "23.2\n"
     ]
    }
   ],
   "source": [
    "variance = ((X - X_bar)**2).sum() / (X.shape[0] - 1)\n",
    "print(variance)"
   ]
  },
  {
   "cell_type": "code",
   "execution_count": 51,
   "metadata": {},
   "outputs": [
    {
     "name": "stdout",
     "output_type": "stream",
     "text": [
      "23.2\n"
     ]
    }
   ],
   "source": [
    "# built-in function for calculating variance\n",
    "print(np.var(X, ddof=1))"
   ]
  },
  {
   "cell_type": "code",
   "execution_count": 52,
   "metadata": {},
   "outputs": [],
   "source": [
    "## -- 4 -- ##\n",
    "# calculating covariance\n",
    "# converting the existing y list to an np array type\n",
    "y = np.array(y)"
   ]
  },
  {
   "cell_type": "code",
   "execution_count": 53,
   "metadata": {},
   "outputs": [
    {
     "name": "stdout",
     "output_type": "stream",
     "text": [
      "22.65\n"
     ]
    }
   ],
   "source": [
    "y_bar = y.mean()\n",
    "covariance = np.multiply((X - X_bar).transpose(), \n",
    "                         (y - y_bar)).sum() / (X.shape[0] - 1)\n",
    "print(covariance)"
   ]
  },
  {
   "cell_type": "code",
   "execution_count": 56,
   "metadata": {},
   "outputs": [
    {
     "name": "stdout",
     "output_type": "stream",
     "text": [
      "22.65\n"
     ]
    }
   ],
   "source": [
    "# built-in function to calculate covariance\n",
    "print('{:.2f}'.format(np.cov(X.transpose(), y)[0][1]))"
   ]
  },
  {
   "cell_type": "code",
   "execution_count": 59,
   "metadata": {},
   "outputs": [
    {
     "name": "stdout",
     "output_type": "stream",
     "text": [
      "0.6620\n"
     ]
    }
   ],
   "source": [
    "## -- 5 -- ##\n",
    "# calculating the R-Squared value\n",
    "\n",
    "X_train = X\n",
    "y_train = y\n",
    "\n",
    "X_test = np.array([8, 9, 11, 16, 12]).reshape(-1, 1)\n",
    "y_test = [11, 8.5, 15, 18, 11]\n",
    "\n",
    "model = LinearRegression()\n",
    "model.fit(X_train, y_train)\n",
    "\n",
    "# calling the built in function within scikit-learn for R-squared\n",
    "r_squared = model.score(X_test, y_test)\n",
    "print('{:.4f}'.format(r_squared))"
   ]
  },
  {
   "cell_type": "code",
   "execution_count": null,
   "metadata": {},
   "outputs": [],
   "source": []
  }
 ],
 "metadata": {
  "kernelspec": {
   "display_name": "Python 3",
   "language": "python",
   "name": "python3"
  },
  "language_info": {
   "codemirror_mode": {
    "name": "ipython",
    "version": 3
   },
   "file_extension": ".py",
   "mimetype": "text/x-python",
   "name": "python",
   "nbconvert_exporter": "python",
   "pygments_lexer": "ipython3",
   "version": "3.6.5"
  }
 },
 "nbformat": 4,
 "nbformat_minor": 2
}
