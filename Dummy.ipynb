{
 "cells": [
  {
   "cell_type": "code",
   "execution_count": 1,
   "metadata": {},
   "outputs": [],
   "source": [
    "# import the required libraries\n",
    "import pandas as pd\n",
    "\n",
    "data = pd.read_csv('C:\\\\Users\\\\anshul\\\\PycharmProjects\\\\scikit-learn\\\\Datasets\\\\DTML_Master.csv')"
   ]
  },
  {
   "cell_type": "code",
   "execution_count": 2,
   "metadata": {},
   "outputs": [
    {
     "data": {
      "text/plain": [
       "['CAL_DATE',\n",
       " 'VNDR_ID',\n",
       " 'ITEM_NO',\n",
       " 'LOC',\n",
       " 'SR_FLAG',\n",
       " 'CRFA_C',\n",
       " 'CRFA_R',\n",
       " 'CRFA_F',\n",
       " 'CRFA_A',\n",
       " 'EOQ',\n",
       " 'PKG_QTY',\n",
       " 'OUTPROC_FLAG',\n",
       " 'SCORE_EDI_INSTABILITY_AVG',\n",
       " 'ORDER_EDI_INSTABILITY_POSITIVE_ONLY_AVG',\n",
       " 'FULFILLMENT_RATE_2WKAVG',\n",
       " 'SPEC_CNG_ELEM',\n",
       " 'SPEC_CNG_FPE',\n",
       " 'SPEC_CNG_MRP',\n",
       " 'SPEC_CNG_OH_ADJ',\n",
       " 'SPEC_CNG_PCTS',\n",
       " 'SPEC_CNG_PEG',\n",
       " 'SPEC_CNG_POR_ASN',\n",
       " 'SPEC_CNG_POTR',\n",
       " 'SPEC_CNG_SCHED',\n",
       " 'SPEC_CNG_UNKNWN',\n",
       " 'DROPIN',\n",
       " 'PAST_DUES',\n",
       " 'CUR_INTRN_DAYS',\n",
       " 'MDL_BLD_RATE',\n",
       " 'PREV_MNTH_RECORD_COUNT',\n",
       " 'PREV_MNTH_PERCENT',\n",
       " 'AVG_SIX_MNTH_CNT',\n",
       " 'SHRT_PPM',\n",
       " 'QA_PPM']"
      ]
     },
     "execution_count": 2,
     "metadata": {},
     "output_type": "execute_result"
    }
   ],
   "source": [
    "list(data)"
   ]
  },
  {
   "cell_type": "code",
   "execution_count": 3,
   "metadata": {},
   "outputs": [],
   "source": [
    "# split the data into feature matrix (X) and response vector (y)\n",
    "X = data.drop('SR_FLAG', axis='columns')"
   ]
  },
  {
   "cell_type": "code",
   "execution_count": null,
   "metadata": {},
   "outputs": [],
   "source": []
  }
 ],
 "metadata": {
  "kernelspec": {
   "display_name": "Python 3",
   "language": "python",
   "name": "python3"
  },
  "language_info": {
   "codemirror_mode": {
    "name": "ipython",
    "version": 3
   },
   "file_extension": ".py",
   "mimetype": "text/x-python",
   "name": "python",
   "nbconvert_exporter": "python",
   "pygments_lexer": "ipython3",
   "version": "3.6.4"
  }
 },
 "nbformat": 4,
 "nbformat_minor": 2
}
