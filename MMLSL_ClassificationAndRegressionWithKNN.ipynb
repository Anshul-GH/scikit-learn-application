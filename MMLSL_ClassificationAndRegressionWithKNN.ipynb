{
 "cells": [
  {
   "cell_type": "code",
   "execution_count": 3,
   "metadata": {},
   "outputs": [
    {
     "data": {
      "image/png": "[encoded data removed]",
      "text/plain": [
       "<Figure size 432x288 with 1 Axes>"
      ]
     },
     "metadata": {},
     "output_type": "display_data"
    }
   ],
   "source": [
    "# Classification using KNN\n",
    "\n",
    "import numpy as np\n",
    "import matplotlib.pyplot as plt\n",
    "%matplotlib inline\n",
    "\n",
    "X_train = np.array([\n",
    "    [158, 64],\n",
    "    [170, 86],\n",
    "    [183, 84],\n",
    "    [191, 80],\n",
    "    [155, 49],\n",
    "    [163, 59],\n",
    "    [180, 67],\n",
    "    [158, 54],\n",
    "    [170, 67]\n",
    "])\n",
    "\n",
    "y_train = ['male', 'male', 'male', 'male', \n",
    "           'female', 'female', 'female', 'female', 'female']\n",
    "\n",
    "plt.figure()\n",
    "plt.title('Human Heights and Weights by Sex')\n",
    "plt.xlabel('Height in cm')\n",
    "plt.ylabel('Weight in kg')\n",
    "\n",
    "for i, x in enumerate(X_train):\n",
    "    plt.scatter(x[0], x[1], c='k', marker='x' if y_train[i] == 'male' else 'D')\n",
    "\n",
    "plt.grid(True)\n",
    "plt.show()"
   ]
  },
  {
   "cell_type": "code",
   "execution_count": 2,
   "metadata": {},
   "outputs": [
    {
     "name": "stdout",
     "output_type": "stream",
     "text": [
      "[ 6.70820393 21.9317122  31.30495168 37.36308338 21.         13.60147051\n",
      " 25.17935662 16.2788206  15.29705854]\n"
     ]
    }
   ],
   "source": [
    "# calculating the euclidean distance of a sample instance (155cm, 70kg)\n",
    "# to figure out the nearest neighbors\n",
    "\n",
    "X_test = np.array([[155, 70]])\n",
    "distances = np.sqrt(np.sum((X_train - X_test)**2, axis=1))\n",
    "print(distances)"
   ]
  },
  {
   "cell_type": "code",
   "execution_count": 4,
   "metadata": {},
   "outputs": [
    {
     "name": "stdout",
     "output_type": "stream",
     "text": [
      "['male' 'female' 'female']\n"
     ]
    }
   ],
   "source": [
    "# identify the indices and response values of the nearest neighbors\n",
    "nearest_neighbor_indices = distances.argsort()[:3]\n",
    "nearest_neighbor_genders = np.take(y_train, nearest_neighbor_indices)\n",
    "print(nearest_neighbor_genders)"
   ]
  },
  {
   "cell_type": "code",
   "execution_count": 5,
   "metadata": {},
   "outputs": [
    {
     "name": "stdout",
     "output_type": "stream",
     "text": [
      "female\n"
     ]
    }
   ],
   "source": [
    "# use code to count and identify the feature vector class with maximum counts\n",
    "from collections import Counter\n",
    "b = Counter(np.take(y_train, nearest_neighbor_indices))\n",
    "# print(b.most_common(1)[0][0])\n",
    "print(b.most_common(1)[0][0])"
   ]
  },
  {
   "cell_type": "code",
   "execution_count": 6,
   "metadata": {},
   "outputs": [
    {
     "name": "stdout",
     "output_type": "stream",
     "text": [
      "[[1]\n",
      " [1]\n",
      " [1]\n",
      " [1]\n",
      " [0]\n",
      " [0]\n",
      " [0]\n",
      " [0]\n",
      " [0]]\n"
     ]
    }
   ],
   "source": [
    "# implementing the KNN classifier using scikit-learn\n",
    "from sklearn.preprocessing import LabelBinarizer\n",
    "from sklearn.neighbors import KNeighborsClassifier\n",
    "\n",
    "lb = LabelBinarizer()\n",
    "y_train_binarized = lb.fit_transform(y_train)\n",
    "print(y_train_binarized)"
   ]
  },
  {
   "cell_type": "code",
   "execution_count": 7,
   "metadata": {},
   "outputs": [
    {
     "data": {
      "text/plain": [
       "KNeighborsClassifier(algorithm='auto', leaf_size=30, metric='minkowski',\n",
       "           metric_params=None, n_jobs=1, n_neighbors=3, p=2,\n",
       "           weights='uniform')"
      ]
     },
     "execution_count": 7,
     "metadata": {},
     "output_type": "execute_result"
    }
   ],
   "source": [
    "# implementing KNN now\n",
    "K = 3\n",
    "clf = KNeighborsClassifier(n_neighbors=K)\n",
    "clf.fit(X_train, y_train_binarized.reshape(-1))"
   ]
  },
  {
   "cell_type": "code",
   "execution_count": 12,
   "metadata": {},
   "outputs": [
    {
     "name": "stdout",
     "output_type": "stream",
     "text": [
      "female\n"
     ]
    }
   ],
   "source": [
    "y_pred_binarized = clf.predict(np.array([155, 70]).reshape(1, -1))[0]\n",
    "y_pred = lb.inverse_transform(y_pred_binarized)\n",
    "print(y_pred[0])"
   ]
  },
  {
   "cell_type": "code",
   "execution_count": 18,
   "metadata": {},
   "outputs": [
    {
     "name": "stdout",
     "output_type": "stream",
     "text": [
      "[[1 1 0 0]]\n"
     ]
    }
   ],
   "source": [
    "# making predictions on a sample test set\n",
    "X_test = np.array([\n",
    "    [168, 65],\n",
    "    [180, 96],\n",
    "    [160, 52],\n",
    "    [169, 67]\n",
    "])\n",
    "\n",
    "y_test = ['male', 'male', 'female', 'female']\n",
    "y_test_binarized = lb.transform(y_test)\n",
    "print(y_test_binarized)"
   ]
  },
  {
   "cell_type": "code",
   "execution_count": 19,
   "metadata": {},
   "outputs": [
    {
     "name": "stdout",
     "output_type": "stream",
     "text": [
      "Binarized Labels:  [1 1 0 0]\n",
      "Binarized Predictions:  [0 1 0 0]\n",
      "Predicted Labels:  ['female' 'male' 'female' 'female']\n"
     ]
    }
   ],
   "source": [
    "print('Binarized Labels: ', y_test_binarized.T[0])\n",
    "y_pred_binarized = clf.predict(X_test)\n",
    "print('Binarized Predictions: ', y_pred_binarized)\n",
    "y_pred = lb.inverse_transform(y_pred_binarized)\n",
    "print('Predicted Labels: ', y_pred)"
   ]
  },
  {
   "cell_type": "code",
   "execution_count": 25,
   "metadata": {},
   "outputs": [
    {
     "name": "stdout",
     "output_type": "stream",
     "text": [
      "Accuracy: 0.75\n",
      "Precision: 1.00\n",
      "Recall: 0.50\n",
      "F1-Score: 0.67\n",
      "Matthew's Correlation Coefficient: 0.58\n",
      "Classification Report: \n",
      "              precision    recall  f1-score   support\n",
      "\n",
      "       male       1.00      0.50      0.67         2\n",
      "\n",
      "avg / total       1.00      0.50      0.67         2\n",
      "\n"
     ]
    }
   ],
   "source": [
    "# checking/validating the performance of the model\n",
    "\n",
    "# from sklearn.metrics import accuracy_score, precision_score, recall_score, f1_score, matthews_corrcoef, classification_report\n",
    "\n",
    "# Accuracy\n",
    "from sklearn.metrics import accuracy_score\n",
    "print('Accuracy: {:.2f}'.format(accuracy_score(y_test_binarized, y_pred_binarized)))\n",
    "\n",
    "# Precision\n",
    "from sklearn.metrics import precision_score\n",
    "print('Precision: {:.2f}'.format(precision_score(y_test_binarized, y_pred_binarized)))\n",
    "\n",
    "# Recall\n",
    "from sklearn.metrics import recall_score\n",
    "print('Recall: {:.2f}'.format(recall_score(y_test_binarized, y_pred_binarized)))\n",
    "\n",
    "# F1-Score\n",
    "from sklearn.metrics import f1_score\n",
    "print('F1-Score: {:.2f}'.format(f1_score(y_test_binarized, y_pred_binarized)))\n",
    "\n",
    "# Matthew's Correlation Coefficient\n",
    "from sklearn.metrics import matthews_corrcoef\n",
    "print(\"Matthew's Correlation Coefficient: {:.2f}\".format(matthews_corrcoef(y_test_binarized, y_pred_binarized)))\n",
    "\n",
    "# Classification Report\n",
    "from sklearn.metrics import classification_report\n",
    "print('Classification Report: \\n', classification_report(y_test_binarized, y_pred_binarized, target_names=['male'], labels=[1]))"
   ]
  },
  {
   "cell_type": "code",
   "execution_count": 7,
   "metadata": {},
   "outputs": [],
   "source": [
    "# regression with KNN.\n",
    "# the same example, but now feature set will be \n",
    "# height and sex and we have to predict the weight\n",
    "\n",
    "import numpy as np\n",
    "from sklearn.neighbors import KNeighborsRegressor\n",
    "from sklearn.metrics import mean_absolute_error, mean_squared_error, r2_score\n",
    "\n",
    "X_train = np.array([\n",
    "    [158, 1],\n",
    "    [170, 1],\n",
    "    [183, 1],\n",
    "    [191, 1],\n",
    "    [155, 0],\n",
    "    [163, 0],\n",
    "    [180, 0],\n",
    "    [158, 0],\n",
    "    [170, 0]\n",
    "])\n",
    "\n",
    "y_train = [64, 86, 84, 80, 49, 59, 67, 54, 67]\n",
    "\n",
    "X_test = np.array([\n",
    "    [168, 1],\n",
    "    [180, 1],\n",
    "    [160, 0],\n",
    "    [169, 0]\n",
    "])\n",
    "\n",
    "y_test = [65, 96, 52, 67]\n",
    "\n",
    "K = 3\n"
   ]
  },
  {
   "cell_type": "code",
   "execution_count": 9,
   "metadata": {},
   "outputs": [],
   "source": [
    "# clf = KNeigborsRegressor(n_neighbors=K)\n",
    "\n",
    "clf = KNeighborsRegressor(n_neighbors=K)\n",
    "\n",
    "clf.fit(X_train, y_train)\n",
    "predictions = clf.predict(X_test)"
   ]
  },
  {
   "cell_type": "code",
   "execution_count": 10,
   "metadata": {},
   "outputs": [
    {
     "name": "stdout",
     "output_type": "stream",
     "text": [
      "Predicted Weights:  [70.66666667 79.         59.         70.66666667]\n",
      "Coefficient of determination:  0.6290565226735438\n",
      "Mean Absolute Error:  8.333333333333336\n",
      "Mean Squared Error:  95.8888888888889\n"
     ]
    }
   ],
   "source": [
    "print('Predicted Weights: ', predictions)\n",
    "print('Coefficient of determination: ', r2_score(y_test, predictions))\n",
    "print('Mean Absolute Error: ', mean_absolute_error(y_test, predictions))\n",
    "print('Mean Squared Error: ', mean_squared_error(y_test, predictions))"
   ]
  },
  {
   "cell_type": "code",
   "execution_count": 19,
   "metadata": {},
   "outputs": [
    {
     "name": "stdout",
     "output_type": "stream",
     "text": [
      "Eucliden Distances (mm):\n",
      "60.0000\n",
      "40.0125\n",
      "\n",
      "Eucliden Distances (cm):\n",
      "6.0000\n",
      "4.1231\n",
      "\n",
      "Eucliden Distances (m):\n",
      "0.0600\n",
      "1.0008\n"
     ]
    }
   ],
   "source": [
    "# scaling features example\n",
    "\n",
    "from scipy.spatial.distance import euclidean\n",
    "\n",
    "# heights in millimeters\n",
    "X_train = np.array([\n",
    "    [1700, 1],\n",
    "    [1600, 0]\n",
    "])\n",
    "\n",
    "X_test = np.array([1640, 1]).reshape(1, -1)\n",
    "\n",
    "print('Eucliden Distances (mm):')\n",
    "print('{:.4f}'.format(euclidean(X_train[0,:], X_test)))\n",
    "print('{:.4f}'.format(euclidean(X_train[1,:], X_test)))\n",
    "\n",
    "\n",
    "# heights in centimeters\n",
    "X_train = np.array([\n",
    "    [170, 1],\n",
    "    [160, 0]\n",
    "])\n",
    "\n",
    "X_test = np.array([164, 1]).reshape(1, -1)\n",
    "\n",
    "print('\\nEucliden Distances (cm):')\n",
    "print('{:.4f}'.format(euclidean(X_train[0,:], X_test)))\n",
    "print('{:.4f}'.format(euclidean(X_train[1,:], X_test)))\n",
    "\n",
    "\n",
    "# heights in meters\n",
    "X_train = np.array([\n",
    "    [1.7, 1],\n",
    "    [1.6, 0]\n",
    "])\n",
    "\n",
    "X_test = np.array([1.64, 1]).reshape(1, -1)\n",
    "\n",
    "print('\\nEucliden Distances (m):')\n",
    "print('{:.4f}'.format(euclidean(X_train[0,:], X_test)))\n",
    "print('{:.4f}'.format(euclidean(X_train[1,:], X_test)))"
   ]
  },
  {
   "cell_type": "code",
   "execution_count": 21,
   "metadata": {},
   "outputs": [
    {
     "name": "stdout",
     "output_type": "stream",
     "text": [
      "[[158   1]\n",
      " [170   1]\n",
      " [183   1]\n",
      " [191   1]\n",
      " [155   0]\n",
      " [163   0]\n",
      " [180   0]\n",
      " [158   0]\n",
      " [170   0]]\n",
      "[[-0.9908706   1.11803399]\n",
      " [ 0.01869567  1.11803399]\n",
      " [ 1.11239246  1.11803399]\n",
      " [ 1.78543664  1.11803399]\n",
      " [-1.24326216 -0.89442719]\n",
      " [-0.57021798 -0.89442719]\n",
      " [ 0.86000089 -0.89442719]\n",
      " [-0.9908706  -0.89442719]\n",
      " [ 0.01869567 -0.89442719]]\n"
     ]
    },
    {
     "name": "stderr",
     "output_type": "stream",
     "text": [
      "/home/anshul/anaconda3/lib/python3.6/site-packages/sklearn/utils/validation.py:475: DataConversionWarning: Data with input dtype int64 was converted to float64 by StandardScaler.\n",
      "  warnings.warn(msg, DataConversionWarning)\n"
     ]
    }
   ],
   "source": [
    "# understanding and implementing StandardScaler\n",
    "from sklearn.preprocessing import StandardScaler\n",
    "\n",
    "X_train = np.array([\n",
    "    [158, 1],\n",
    "    [170, 1],\n",
    "    [183, 1],\n",
    "    [191, 1],\n",
    "    [155, 0],\n",
    "    [163, 0],\n",
    "    [180, 0],\n",
    "    [158, 0],\n",
    "    [170, 0]\n",
    "])\n",
    "\n",
    "y_train = [64, 86, 84, 80, 49, 59, 67, 54, 67]\n",
    "\n",
    "X_test = np.array([\n",
    "    [168, 1],\n",
    "    [180, 1],\n",
    "    [160, 0],\n",
    "    [169, 0]\n",
    "])\n",
    "\n",
    "y_test = [65, 96, 52, 67]\n",
    "\n",
    "ss = StandardScaler()\n",
    "X_train_scaled = ss.fit_transform(X_train)\n",
    "\n",
    "print(X_train)\n",
    "print(X_train_scaled)\n",
    "\n",
    "X_test_scaled = ss.transform(X_test)\n",
    "\n",
    "clf.fit(X_train_scaled, y_train)\n",
    "predictions = clf.predict(X_test_scaled)"
   ]
  },
  {
   "cell_type": "code",
   "execution_count": 22,
   "metadata": {},
   "outputs": [
    {
     "name": "stdout",
     "output_type": "stream",
     "text": [
      "Predicted Weights:  [78.         83.33333333 54.         64.33333333]\n",
      "Coefficient of determination:  0.6706425961745109\n",
      "Mean Absolute Error:  7.583333333333336\n",
      "Mean Squared Error:  85.13888888888893\n"
     ]
    }
   ],
   "source": [
    "print('Predicted Weights: ', predictions)\n",
    "print('Coefficient of determination: ', r2_score(y_test, predictions))\n",
    "print('Mean Absolute Error: ', mean_absolute_error(y_test, predictions))\n",
    "print('Mean Squared Error: ', mean_squared_error(y_test, predictions))"
   ]
  },
  {
   "cell_type": "code",
   "execution_count": null,
   "metadata": {},
   "outputs": [],
   "source": []
  }
 ],
 "metadata": {
  "kernelspec": {
   "display_name": "Python 3",
   "language": "python",
   "name": "python3"
  },
  "language_info": {
   "codemirror_mode": {
    "name": "ipython",
    "version": 3
   },
   "file_extension": ".py",
   "mimetype": "text/x-python",
   "name": "python",
   "nbconvert_exporter": "python",
   "pygments_lexer": "ipython3",
   "version": "3.6.5"
  }
 },
 "nbformat": 4,
 "nbformat_minor": 2
}
