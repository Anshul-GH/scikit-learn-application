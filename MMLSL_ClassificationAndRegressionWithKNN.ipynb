{
 "cells": [
  {
   "cell_type": "code",
   "execution_count": 1,
   "metadata": {},
   "outputs": [
    {
     "data": {
      "text/plain": [
       "<Figure size 640x480 with 1 Axes>"
      ]
     },
     "metadata": {},
     "output_type": "display_data"
    }
   ],
   "source": [
    "# Classification using KNN\n",
    "\n",
    "import numpy as np\n",
    "import matplotlib.pyplot as plt\n",
    "\n",
    "X_train = np.array([\n",
    "    [158, 64],\n",
    "    [170, 86],\n",
    "    [183, 84],\n",
    "    [191, 80],\n",
    "    [155, 49],\n",
    "    [163, 59],\n",
    "    [180, 67],\n",
    "    [158, 54],\n",
    "    [170, 67]\n",
    "])\n",
    "\n",
    "y_train = ['male', 'male', 'male', 'male', \n",
    "           'female', 'female', 'female', 'female', 'female']\n",
    "\n",
    "plt.figure()\n",
    "plt.title('Human Heights and Weights by Sex')\n",
    "plt.xlabel('Height in cm')\n",
    "plt.ylabel('Weight in kg')\n",
    "\n",
    "for i, x in enumerate(X_train):\n",
    "    plt.scatter(x[0], x[1], c='k', marker='x' if y_train[i] == 'male' else 'D')\n",
    "\n",
    "plt.grid(True)\n",
    "plt.show()"
   ]
  },
  {
   "cell_type": "code",
   "execution_count": 2,
   "metadata": {},
   "outputs": [
    {
     "name": "stdout",
     "output_type": "stream",
     "text": [
      "[ 6.70820393 21.9317122  31.30495168 37.36308338 21.         13.60147051\n",
      " 25.17935662 16.2788206  15.29705854]\n"
     ]
    }
   ],
   "source": [
    "# calculating the euclidean distance of a sample instance (155cm, 70kg)\n",
    "# to figure out the nearest neighbors\n",
    "\n",
    "X_test = np.array([[155, 70]])\n",
    "distances = np.sqrt(np.sum((X_train - X_test)**2, axis=1))\n",
    "print(distances)"
   ]
  },
  {
   "cell_type": "code",
   "execution_count": 4,
   "metadata": {},
   "outputs": [
    {
     "name": "stdout",
     "output_type": "stream",
     "text": [
      "['male' 'female' 'female']\n"
     ]
    }
   ],
   "source": [
    "# identify the indices and response values of the nearest neighbors\n",
    "nearest_neighbor_indices = distances.argsort()[:3]\n",
    "nearest_neighbor_genders = np.take(y_train, nearest_neighbor_indices)\n",
    "print(nearest_neighbor_genders)"
   ]
  },
  {
   "cell_type": "code",
   "execution_count": 5,
   "metadata": {},
   "outputs": [
    {
     "name": "stdout",
     "output_type": "stream",
     "text": [
      "female\n"
     ]
    }
   ],
   "source": [
    "# use code to count and identify the feature vector class with maximum counts\n",
    "from collections import Counter\n",
    "b = Counter(np.take(y_train, nearest_neighbor_indices))\n",
    "# print(b.most_common(1)[0][0])\n",
    "print(b.most_common(1)[0][0])"
   ]
  },
  {
   "cell_type": "code",
   "execution_count": 6,
   "metadata": {},
   "outputs": [
    {
     "name": "stdout",
     "output_type": "stream",
     "text": [
      "[[1]\n",
      " [1]\n",
      " [1]\n",
      " [1]\n",
      " [0]\n",
      " [0]\n",
      " [0]\n",
      " [0]\n",
      " [0]]\n"
     ]
    }
   ],
   "source": [
    "# implementing the KNN classifier using scikit-learn\n",
    "from sklearn.preprocessing import LabelBinarizer\n",
    "from sklearn.neighbors import KNeighborsClassifier\n",
    "\n",
    "lb = LabelBinarizer()\n",
    "y_train_binarized = lb.fit_transform(y_train)\n",
    "print(y_train_binarized)"
   ]
  },
  {
   "cell_type": "code",
   "execution_count": 7,
   "metadata": {},
   "outputs": [
    {
     "data": {
      "text/plain": [
       "KNeighborsClassifier(algorithm='auto', leaf_size=30, metric='minkowski',\n",
       "           metric_params=None, n_jobs=1, n_neighbors=3, p=2,\n",
       "           weights='uniform')"
      ]
     },
     "execution_count": 7,
     "metadata": {},
     "output_type": "execute_result"
    }
   ],
   "source": [
    "# implementing KNN now\n",
    "K = 3\n",
    "clf = KNeighborsClassifier(n_neighbors=K)\n",
    "clf.fit(X_train, y_train_binarized.reshape(-1))"
   ]
  },
  {
   "cell_type": "code",
   "execution_count": 12,
   "metadata": {},
   "outputs": [
    {
     "name": "stdout",
     "output_type": "stream",
     "text": [
      "female\n"
     ]
    }
   ],
   "source": [
    "y_pred_binarized = clf.predict(np.array([155, 70]).reshape(1, -1))[0]\n",
    "y_pred = lb.inverse_transform(y_pred_binarized)\n",
    "print(y_pred[0])"
   ]
  },
  {
   "cell_type": "code",
   "execution_count": 18,
   "metadata": {},
   "outputs": [
    {
     "name": "stdout",
     "output_type": "stream",
     "text": [
      "[[1 1 0 0]]\n"
     ]
    }
   ],
   "source": [
    "# making predictions on a sample test set\n",
    "X_test = np.array([\n",
    "    [168, 65],\n",
    "    [180, 96],\n",
    "    [160, 52],\n",
    "    [169, 67]\n",
    "])\n",
    "\n",
    "y_test = ['male', 'male', 'female', 'female']\n",
    "y_test_binarized = lb.transform(y_test)\n",
    "print(y_test_binarized)"
   ]
  },
  {
   "cell_type": "code",
   "execution_count": 19,
   "metadata": {},
   "outputs": [
    {
     "name": "stdout",
     "output_type": "stream",
     "text": [
      "Binarized Labels:  [1 1 0 0]\n",
      "Binarized Predictions:  [0 1 0 0]\n",
      "Predicted Labels:  ['female' 'male' 'female' 'female']\n"
     ]
    }
   ],
   "source": [
    "print('Binarized Labels: ', y_test_binarized.T[0])\n",
    "y_pred_binarized = clf.predict(X_test)\n",
    "print('Binarized Predictions: ', y_pred_binarized)\n",
    "y_pred = lb.inverse_transform(y_pred_binarized)\n",
    "print('Predicted Labels: ', y_pred)"
   ]
  },
  {
   "cell_type": "code",
   "execution_count": 25,
   "metadata": {},
   "outputs": [
    {
     "name": "stdout",
     "output_type": "stream",
     "text": [
      "Accuracy: 0.75\n",
      "Precision: 1.00\n",
      "Recall: 0.50\n",
      "F1-Score: 0.67\n",
      "Matthew's Correlation Coefficient: 0.58\n",
      "Classification Report: \n",
      "              precision    recall  f1-score   support\n",
      "\n",
      "       male       1.00      0.50      0.67         2\n",
      "\n",
      "avg / total       1.00      0.50      0.67         2\n",
      "\n"
     ]
    }
   ],
   "source": [
    "# checking/validating the performance of the model\n",
    "\n",
    "# from sklearn.metrics import accuracy_score, precision_score, recall_score, f1_score, matthews_corrcoef, classification_report\n",
    "\n",
    "# Accuracy\n",
    "from sklearn.metrics import accuracy_score\n",
    "print('Accuracy: {:.2f}'.format(accuracy_score(y_test_binarized, y_pred_binarized)))\n",
    "\n",
    "# Precision\n",
    "from sklearn.metrics import precision_score\n",
    "print('Precision: {:.2f}'.format(precision_score(y_test_binarized, y_pred_binarized)))\n",
    "\n",
    "# Recall\n",
    "from sklearn.metrics import recall_score\n",
    "print('Recall: {:.2f}'.format(recall_score(y_test_binarized, y_pred_binarized)))\n",
    "\n",
    "# F1-Score\n",
    "from sklearn.metrics import f1_score\n",
    "print('F1-Score: {:.2f}'.format(f1_score(y_test_binarized, y_pred_binarized)))\n",
    "\n",
    "# Matthew's Correlation Coefficient\n",
    "from sklearn.metrics import matthews_corrcoef\n",
    "print(\"Matthew's Correlation Coefficient: {:.2f}\".format(matthews_corrcoef(y_test_binarized, y_pred_binarized)))\n",
    "\n",
    "# Classification Report\n",
    "from sklearn.metrics import classification_report\n",
    "print('Classification Report: \\n', classification_report(y_test_binarized, y_pred_binarized, target_names=['male'], labels=[1]))"
   ]
  },
  {
   "cell_type": "code",
   "execution_count": null,
   "metadata": {},
   "outputs": [],
   "source": []
  }
 ],
 "metadata": {
  "kernelspec": {
   "display_name": "Python 3",
   "language": "python",
   "name": "python3"
  },
  "language_info": {
   "codemirror_mode": {
    "name": "ipython",
    "version": 3
   },
   "file_extension": ".py",
   "mimetype": "text/x-python",
   "name": "python",
   "nbconvert_exporter": "python",
   "pygments_lexer": "ipython3",
   "version": "3.6.5"
  }
 },
 "nbformat": 4,
 "nbformat_minor": 2
}
