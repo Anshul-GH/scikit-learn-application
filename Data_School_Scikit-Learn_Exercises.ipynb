{
 "cells": [
  {
   "cell_type": "markdown",
   "metadata": {},
   "source": [
    "Supervised Learning \n",
    "- Making predictions using the data\n",
    "- There is an outcome we are trying to predict\n",
    "- Example: Predicting whether a given email is spam or not.\n",
    "\n",
    "Unsupervised Learning\n",
    "- Extracting structure from the data\n",
    "- There is no right or wrong answer\n",
    "- Patterns are observed based on the data\n",
    "- Example: Identify shopping behavior across age-groups"
   ]
  },
  {
   "cell_type": "markdown",
   "metadata": {},
   "source": [
    "<b>How machine learning works?</b>\n",
    "\n",
    "Supervised Learning\n",
    "- Train the machine learning model using labelled data\n",
    "- Machine learning model learns the relationship between attributes of the data and its outcome\n",
    "- Then, make predictions on the new data for which the label is unknown\n",
    "\n",
    "The primary goal of supervised learning is to build a model that 'generalizes'. It accurately predicts the future rather than the past.\n",
    "\n"
   ]
  },
  {
   "cell_type": "markdown",
   "metadata": {},
   "source": [
    "<b>The IRIS dataset</b>\n",
    "- 50 samples of 3 different species of iris (150 samples total)\n",
    "- Measurements - sepal length, sepal width, petal length, petal width\n",
    "\n",
    "This is framed as a 'Supervised Learning' problem. The aim is to predict the sepcies of an IRIS using measurements as input."
   ]
  },
  {
   "cell_type": "code",
   "execution_count": 2,
   "metadata": {},
   "outputs": [
    {
     "data": {
      "text/html": [
       "\n",
       "        <iframe\n",
       "            width=\"300\"\n",
       "            height=\"200\"\n",
       "            src=\"http://archive.ics.uci.edu/ml/machine-learning-databases/iris/iris.data\"\n",
       "            frameborder=\"0\"\n",
       "            allowfullscreen\n",
       "        ></iframe>\n",
       "        "
      ],
      "text/plain": [
       "<IPython.lib.display.IFrame at 0x298ff045a20>"
      ]
     },
     "execution_count": 2,
     "metadata": {},
     "output_type": "execute_result"
    }
   ],
   "source": [
    "from IPython.display import IFrame\n",
    "IFrame('http://archive.ics.uci.edu/ml/machine-learning-databases/iris/iris.data', width=300, height=200)"
   ]
  },
  {
   "cell_type": "code",
   "execution_count": null,
   "metadata": {},
   "outputs": [],
   "source": []
  }
 ],
 "metadata": {
  "kernelspec": {
   "display_name": "Python 3",
   "language": "python",
   "name": "python3"
  },
  "language_info": {
   "codemirror_mode": {
    "name": "ipython",
    "version": 3
   },
   "file_extension": ".py",
   "mimetype": "text/x-python",
   "name": "python",
   "nbconvert_exporter": "python",
   "pygments_lexer": "ipython3",
   "version": "3.6.4"
  }
 },
 "nbformat": 4,
 "nbformat_minor": 2
}
